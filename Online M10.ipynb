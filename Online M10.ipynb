{
 "cells": [
  {
   "cell_type": "markdown",
   "id": "fdbcf352-c6c6-4c1c-836f-de4cd5d5223a",
   "metadata": {},
   "source": [
    "## Soal 1\n",
    "#### Sebuah sekolah memiliki daftar nilai siswa. Nilai minimal untuk lulus adalah 70. program ini untuk menghitung jumlah siswa yang lulus dan berapa banyak yang tidak lulus."
   ]
  },
  {
   "cell_type": "code",
   "execution_count": 4,
   "id": "ea2bea1f-3dd2-444c-a23c-2e2e06a2ed7b",
   "metadata": {},
   "outputs": [
    {
     "name": "stdout",
     "output_type": "stream",
     "text": [
      "Jumbal siswa yang lulus: 4\n",
      "Jumlah siswa yang tidak lulus: 5\n"
     ]
    }
   ],
   "source": [
    "nilai_siswa = [65,80,55,90,75,50,60,85,45]\n",
    "lulus = 0\n",
    "tidak_lulus = 0\n",
    "\n",
    "for nilai in nilai_siswa:\n",
    "    if nilai >= 70:\n",
    "        lulus += 1\n",
    "    else:\n",
    "        tidak_lulus += 1\n",
    "\n",
    "print(f\"Jumbal siswa yang lulus: {lulus}\")\n",
    "print(f\"Jumlah siswa yang tidak lulus: {tidak_lulus}\")"
   ]
  },
  {
   "cell_type": "markdown",
   "id": "d1d65b1a-1637-4b6e-867d-e370c990955c",
   "metadata": {},
   "source": [
    "## Soal 2\n",
    "#### Sebuah perusahaan memiliki daftar gaji karyawan mingguan. Jika seorang karyawan bekerja lebih dari 40 jam dalam seminggu, maka ia akan mendapatkan bonus sebesar 10% dari total gaji mingguan, program ini untuk menghitung total gaji setelah bonus untuk setiap karyawan."
   ]
  },
  {
   "cell_type": "code",
   "execution_count": 31,
   "id": "7f813604-f932-4fa6-affb-7a1c072c68d3",
   "metadata": {},
   "outputs": [
    {
     "name": "stdout",
     "output_type": "stream",
     "text": [
      "Karyawan ali memiliki total gasi: 1140000\n",
      "Karyawan budi memiliki total gasi: 2025000\n",
      "Karyawan citra memiliki total gasi: 2750000\n"
     ]
    }
   ],
   "source": [
    "karyawan = [\n",
    "    {\"nama\":\"ali\", \"jam_kerja\":38, \"gaji_per_jam\": 30000},\n",
    "    {\"nama\":\"budi\", \"jam_kerja\":45, \"gaji_per_jam\": 45000},\n",
    "    {\"nama\":\"citra\", \"jam_kerja\":50, \"gaji_per_jam\": 55000},\n",
    "]\n",
    "\n",
    "for data in karyawan:\n",
    "    gaji_mingguan = data[\"jam_kerja\"] * data[\"gaji_per_jam\"]\n",
    "    if data[\"jam_kerja\"] > 40:\n",
    "        bouns = gaji_mingguan * 0.10\n",
    "    else:\n",
    "        bonus = 0\n",
    "    total = gaji_mingguan + bonus\n",
    "    print(f\"Karyawan {data['nama']} memiliki total gasi: {total}\")"
   ]
  }
 ],
 "metadata": {
  "kernelspec": {
   "display_name": "Python 3 (ipykernel)",
   "language": "python",
   "name": "python3"
  },
  "language_info": {
   "codemirror_mode": {
    "name": "ipython",
    "version": 3
   },
   "file_extension": ".py",
   "mimetype": "text/x-python",
   "name": "python",
   "nbconvert_exporter": "python",
   "pygments_lexer": "ipython3",
   "version": "3.12.7"
  }
 },
 "nbformat": 4,
 "nbformat_minor": 5
}
